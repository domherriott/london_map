{
 "cells": [
  {
   "cell_type": "code",
   "execution_count": 21,
   "metadata": {},
   "outputs": [],
   "source": [
    "import pandas as pd\n",
    "import json\n",
    "import numpy as np"
   ]
  },
  {
   "cell_type": "code",
   "execution_count": 22,
   "metadata": {},
   "outputs": [],
   "source": [
    "file = 'LineData.xlsx'\n",
    "xl = pd.ExcelFile(file)"
   ]
  },
  {
   "cell_type": "code",
   "execution_count": 23,
   "metadata": {},
   "outputs": [],
   "source": [
    "lineGeo = {}"
   ]
  },
  {
   "cell_type": "code",
   "execution_count": 24,
   "metadata": {},
   "outputs": [],
   "source": [
    "df = xl.parse('Bakerloo')\n",
    "coords = []\n",
    "for i in df.iterrows():\n",
    "    lon = i[1][1]\n",
    "    lat = i[1][2]\n",
    "    coords.append([lon, lat])\n",
    "\n",
    "\n",
    "lineGeo['Bakerloo'] = coords"
   ]
  },
  {
   "cell_type": "code",
   "execution_count": 25,
   "metadata": {},
   "outputs": [],
   "source": [
    "df = xl.parse('Northern')\n",
    "coordsA = []\n",
    "coordsB = []\n",
    "coordsC = []\n",
    "\n",
    "for i in df.iterrows():\n",
    "   \n",
    "    lonA = i[1][1]\n",
    "    latA = i[1][2]\n",
    "    if (not(np.isnan(lonA) or np.isnan(latA))):\n",
    "        coordsA.append([lonA, latA])\n",
    "    \n",
    "    lonB = i[1][6]\n",
    "    latB = i[1][7]\n",
    "    if (not(np.isnan(lonB) or np.isnan(latB))):\n",
    "        coordsB.append([lonB, latB])\n",
    "    \n",
    "    lonC = i[1][11]\n",
    "    latC = i[1][12]\n",
    "    if (not(np.isnan(lonC) or np.isnan(latC))):\n",
    "        coordsC.append([lonC, latC])\n",
    "    \n",
    "lineGeo['Northern'] = {}\n",
    "lineGeo['Northern']['A'] = coordsA\n",
    "lineGeo['Northern']['B'] = coordsB\n",
    "lineGeo['Northern']['C'] = coordsC"
   ]
  },
  {
   "cell_type": "code",
   "execution_count": 26,
   "metadata": {},
   "outputs": [],
   "source": [
    "df = xl.parse('Piccadilly')\n",
    "coordsA = []\n",
    "coordsB = []\n",
    "coordsC = []\n",
    "\n",
    "for i in df.iterrows():\n",
    "   \n",
    "    lonA = i[1][1]\n",
    "    latA = i[1][2]\n",
    "    if (not(np.isnan(lonA) or np.isnan(latA))):\n",
    "        coordsA.append([lonA, latA])\n",
    "    \n",
    "    lonB = i[1][5]\n",
    "    latB = i[1][6]\n",
    "    if (not(np.isnan(lonB) or np.isnan(latB))):\n",
    "        coordsB.append([lonB, latB])\n",
    "    \n",
    "    lonC = i[1][9]\n",
    "    latC = i[1][10]\n",
    "    if (not(np.isnan(lonC) or np.isnan(latC))):\n",
    "        coordsC.append([lonC, latC])\n",
    "    \n",
    "lineGeo['Piccadilly'] = {}\n",
    "lineGeo['Piccadilly']['A'] = coordsA\n",
    "lineGeo['Piccadilly']['B'] = coordsB\n",
    "lineGeo['Piccadilly']['C'] = coordsC"
   ]
  },
  {
   "cell_type": "code",
   "execution_count": null,
   "metadata": {},
   "outputs": [],
   "source": []
  },
  {
   "cell_type": "code",
   "execution_count": 27,
   "metadata": {},
   "outputs": [],
   "source": [
    "df = xl.parse('Victoria')\n",
    "coords = []\n",
    "for i in df.iterrows():\n",
    "    lon = i[1][0]\n",
    "    lat = i[1][1]\n",
    "    coords.append([lon, lat])\n",
    "\n",
    "\n",
    "lineGeo['Victoria'] = coords\n"
   ]
  },
  {
   "cell_type": "code",
   "execution_count": 28,
   "metadata": {},
   "outputs": [],
   "source": [
    "with open('lineGeo.json', 'w') as f:\n",
    "    json.dump(lineGeo, f)"
   ]
  },
  {
   "cell_type": "code",
   "execution_count": null,
   "metadata": {},
   "outputs": [],
   "source": []
  }
 ],
 "metadata": {
  "kernelspec": {
   "display_name": "Python 3",
   "language": "python",
   "name": "python3"
  },
  "language_info": {
   "codemirror_mode": {
    "name": "ipython",
    "version": 3
   },
   "file_extension": ".py",
   "mimetype": "text/x-python",
   "name": "python",
   "nbconvert_exporter": "python",
   "pygments_lexer": "ipython3",
   "version": "3.7.1"
  }
 },
 "nbformat": 4,
 "nbformat_minor": 2
}
